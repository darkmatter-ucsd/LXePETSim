{
 "cells": [
  {
   "cell_type": "code",
   "id": "af82abc1",
   "metadata": {
    "ExecuteTime": {
     "end_time": "2025-08-15T20:45:36.245261Z",
     "start_time": "2025-08-15T20:45:36.196959Z"
    }
   },
   "source": [
    "import numpy as np\n",
    "import pandas as pd\n",
    "import math\n",
    "from tqdm import tqdm\n",
    "from pathlib import Path\n",
    "\n",
    "def generate_virtual_crystal_lut_from_opengate_sim_with_gaps(\n",
    "    sim,\n",
    "    output_path: str,\n",
    "    virtual_size_radial_mm: float,\n",
    "    virtual_size_tangential_mm: float,\n",
    "    virtual_size_axial_mm: float,\n",
    "    crystal_center_r_mm: float,\n",
    "    start_angle_deg: float = 190.0,\n",
    "    gap_stack_tangential_mm: float = 0.25,\n",
    "    gap_stack_axial_mm: float = 0.25,\n",
    "    dry_run: bool = False\n",
    "):\n",
    "    # Read actual crystal geometry from sim\n",
    "    cry_vol = sim.volume_manager.volumes[\"pet_crystal\"]\n",
    "    crystal_size_radial_mm = cry_vol.size[0]\n",
    "    crystal_size_tangential_mm = cry_vol.size[1]\n",
    "    crystal_size_axial_mm = cry_vol.size[2]\n",
    "\n",
    "    # Geometry layout\n",
    "    n_modules = 18\n",
    "    n_stacks_tangential = 4\n",
    "    n_stacks_axial = 5\n",
    "    n_die_tangential = 4\n",
    "    n_die_axial = 4\n",
    "    n_crystals_per_die_tangential = 2\n",
    "    n_crystals_per_die_axial = 2\n",
    "\n",
    "    n_crystals_radial = 1\n",
    "    n_crystals_per_stack_tangential = n_die_tangential * n_crystals_per_die_tangential\n",
    "    n_crystals_per_stack_axial = n_die_axial * n_crystals_per_die_axial\n",
    "    n_crystals_tangential = n_modules * n_stacks_tangential * n_crystals_per_stack_tangential\n",
    "    n_crystals_axial = n_stacks_axial * n_crystals_per_stack_axial\n",
    "\n",
    "    # Virtual crystal splitting\n",
    "    assert crystal_size_radial_mm % virtual_size_radial_mm == 0\n",
    "    assert crystal_size_tangential_mm % virtual_size_tangential_mm == 0\n",
    "    assert crystal_size_axial_mm % virtual_size_axial_mm == 0\n",
    "\n",
    "    n_virtual_radial = int(crystal_size_radial_mm / virtual_size_radial_mm)\n",
    "    n_virtual_tangential = int(crystal_size_tangential_mm / virtual_size_tangential_mm)\n",
    "    n_virtual_axial = int(crystal_size_axial_mm / virtual_size_axial_mm)\n",
    "\n",
    "    n_radial_total = n_crystals_radial * n_virtual_radial\n",
    "    n_tangential_total = n_crystals_tangential * n_virtual_tangential\n",
    "    n_axial_total = n_crystals_axial * n_virtual_axial\n",
    "    delta_phi_deg = 360.0 / n_tangential_total\n",
    "\n",
    "    print(f\"[Info] Physical crystal dimensions: {crystal_size_radial_mm} x {crystal_size_tangential_mm} x {crystal_size_axial_mm} mm\")\n",
    "    print(f\"[Info] Total physical crystals: radial={n_crystals_radial}, tangential={n_crystals_tangential}, axial={n_crystals_axial}\")\n",
    "    print(f\"[Info] Virtual splits per crystal: radial={n_virtual_radial}, tangential={n_virtual_tangential}, axial={n_virtual_axial}\")\n",
    "    print(f\"[Info] Total virtual crystals: {n_radial_total * n_tangential_total * n_axial_total}\")\n",
    "\n",
    "    if not dry_run:\n",
    "        lut_lines = []\n",
    "        crystal_id = 0\n",
    "\n",
    "        half_radial = crystal_size_radial_mm / 2.0\n",
    "        r0_mm = crystal_center_r_mm - half_radial\n",
    "\n",
    "        for i_axial in tqdm(range(n_axial_total)):\n",
    "            stack_index_axial = i_axial // (n_virtual_axial * n_crystals_per_stack_axial)\n",
    "            axial_gap = gap_stack_axial_mm * stack_index_axial\n",
    "            z_mm = (i_axial + 0.5) * virtual_size_axial_mm + axial_gap - (n_axial_total * virtual_size_axial_mm + gap_stack_axial_mm * (n_stacks_axial - 1)) / 2\n",
    "\n",
    "            for i_tangential in range(n_tangential_total):\n",
    "                stack_index_tangential = i_tangential // (n_virtual_tangential * n_crystals_per_stack_tangential)\n",
    "                tangential_gap = gap_stack_tangential_mm * stack_index_tangential\n",
    "                phi_deg = start_angle_deg + i_tangential * delta_phi_deg + (tangential_gap / (2 * math.pi * crystal_center_r_mm)) * 360.0\n",
    "                phi_rad = math.radians(phi_deg)\n",
    "\n",
    "                for i_radial in range(n_radial_total):\n",
    "                    r_mm = r0_mm + (i_radial + 0.5) * virtual_size_radial_mm\n",
    "                    x = r_mm * np.cos(phi_rad)\n",
    "                    y = r_mm * np.sin(phi_rad)\n",
    "\n",
    "                    dx, dy = -x, -y\n",
    "                    norm = math.sqrt(dx**2 + dy**2)\n",
    "                    ux, uy = dx / norm, dy / norm\n",
    "\n",
    "                    lut_lines.append([crystal_id, x, y, z_mm, ux, uy, 0])\n",
    "                    crystal_id += 1\n",
    "\n",
    "        df = pd.DataFrame(lut_lines, columns=[\"id\", \"x(mm)\", \"y(mm)\", \"z(mm)\", \"u\", \"v\", \"w\"])\n",
    "        df.to_csv(output_path, sep=\" \", index=False, header=False)\n",
    "        print(f\"[LUT] Saved {crystal_id} virtual crystals to: {output_path}\")\n",
    "\n",
    "    return n_radial_total, n_tangential_total, n_axial_total\n"
   ],
   "outputs": [],
   "execution_count": 153
  },
  {
   "cell_type": "code",
   "id": "2435d105",
   "metadata": {
    "ExecuteTime": {
     "end_time": "2025-08-15T20:45:36.311817Z",
     "start_time": "2025-08-15T20:45:36.253115Z"
    }
   },
   "source": [
    "import opengate as gate\n",
    "from pathlib import Path\n",
    "import opengate.contrib.pet.philipsvereos as pet_vereos\n",
    "\n",
    "sim = gate.Simulation()\n",
    "\n",
    "# options\n",
    "# warning the visualisation is slow !\n",
    "sim.visu = False\n",
    "sim.visu_type = \"qt\"\n",
    "sim.random_seed = \"auto\"\n",
    "sim.number_of_threads = 1\n",
    "sim.progress_bar = True\n",
    "sim.output_dir = \"./output\"\n",
    "\n",
    "# units\n",
    "m = gate.g4_units.m\n",
    "mm = gate.g4_units.mm\n",
    "cm = gate.g4_units.cm\n",
    "sec = gate.g4_units.s\n",
    "ps = gate.g4_units.ps\n",
    "keV = gate.g4_units.keV\n",
    "Bq = gate.g4_units.Bq\n",
    "gcm3 = gate.g4_units.g_cm3\n",
    "\n",
    "# world\n",
    "world = sim.world\n",
    "world.size = [2 * m, 2 * m, 2 * m]\n",
    "world.material = \"G4_AIR\"\n",
    "\n",
    "# add the Philips Vereos PET\n",
    "pet = pet_vereos.add_pet(sim, \"pet\", shift=21)"
   ],
   "outputs": [],
   "execution_count": 154
  },
  {
   "cell_type": "code",
   "id": "b6fc62d1",
   "metadata": {
    "ExecuteTime": {
     "end_time": "2025-08-15T20:45:36.331277Z",
     "start_time": "2025-08-15T20:45:36.315714Z"
    }
   },
   "source": [
    "def write_hscan_header(\n",
    "    output_path,\n",
    "    num_radial,\n",
    "    num_transaxial,\n",
    "    num_axial,\n",
    "    voxel_trans=400,\n",
    "    voxel_axial=196,\n",
    "    crystal_size_radial_mm=25.0,\n",
    "    crystal_size_tangential_mm=4.0,\n",
    "    crystal_size_axial_mm=4.0,\n",
    "    scanner_radius_mm=391.5,\n",
    "    axial_fov_mm=392,\n",
    "    trans_fov_mm=800\n",
    "):\n",
    "    \"\"\"\n",
    "    Write the .hscan header for CASToR reconstruction.\n",
    "    \"\"\"\n",
    "    total_num = num_radial * num_transaxial * num_axial\n",
    "    with open(output_path, \"w\") as f:\n",
    "        f.write(\"scanner name: PET_PHILIPS_VEREOS\\n\")\n",
    "        f.write(\"modality: PET\\n\")\n",
    "        f.write(f\"scanner radius: {scanner_radius_mm}\\n\")\n",
    "        f.write(\"number of layers: 1\\n\")\n",
    "        f.write(f\"number of rings: {num_axial}\\n\")\n",
    "        f.write(f\"number of elements: {total_num}\\n\")\n",
    "        f.write(f\"number of crystals in layer: {total_num}\\n\")\n",
    "        f.write(f\"crystals size depth: {crystal_size_radial_mm}\\n\")\n",
    "        f.write(f\"crystals size trans: {crystal_size_tangential_mm}\\n\")\n",
    "        f.write(f\"crystals size axial: {crystal_size_axial_mm}\\n\")\n",
    "        f.write(\"mean depth of interaction: -1\\n\")\n",
    "        f.write(\"min angle difference: 0\\n\")\n",
    "        f.write(f\"field of view transaxial: {trans_fov_mm}\\n\")\n",
    "        f.write(f\"field of view axial: {axial_fov_mm}\\n\")\n",
    "        f.write(f\"voxels number transaxial: {voxel_trans}\\n\")\n",
    "        f.write(f\"voxels number axial: {voxel_axial}\\n\")\n",
    "        f.write(\"description: Custom PET scanner with virtual crystals from OpenGATE sim\\n\")\n",
    "    print(f\"[HSCAN] Header saved to: {output_path}\")"
   ],
   "outputs": [],
   "execution_count": 155
  },
  {
   "cell_type": "code",
   "id": "db2b215c",
   "metadata": {
    "ExecuteTime": {
     "end_time": "2025-08-15T20:45:59.751626Z",
     "start_time": "2025-08-15T20:45:36.346851Z"
    }
   },
   "source": [
    "from operator import ge\n",
    "\n",
    "\n",
    "data_save_dir = \"PET_GRAB/costar_config\"\n",
    "\n",
    "num_radial, num_transaxial, num_axial = generate_virtual_crystal_lut_from_opengate_sim_with_gaps(\n",
    "    sim=sim,\n",
    "    output_path=Path(data_save_dir) /\"philips_vereos_virtual_crystals.lut\",\n",
    "    virtual_size_radial_mm=1.0,\n",
    "    virtual_size_tangential_mm=2.0,\n",
    "    virtual_size_axial_mm=2.0,\n",
    "    start_angle_deg=190.0,\n",
    "    crystal_center_r_mm=391.5,\n",
    "    dry_run=False,\n",
    ")"
   ],
   "outputs": [
    {
     "name": "stdout",
     "output_type": "stream",
     "text": [
      "[Info] Physical crystal dimensions: 40.0 x 4.0 x 4.0 mm\n",
      "[Info] Total physical crystals: radial=1, tangential=576, axial=40\n",
      "[Info] Virtual splits per crystal: radial=40, tangential=2, axial=2\n",
      "[Info] Total virtual crystals: 3686400\n"
     ]
    },
    {
     "name": "stderr",
     "output_type": "stream",
     "text": [
      "100%|██████████| 80/80 [00:07<00:00, 10.38it/s]\n"
     ]
    },
    {
     "name": "stdout",
     "output_type": "stream",
     "text": [
      "[LUT] Saved 3686400 virtual crystals to: PET_GRAB/costar_config/philips_vereos_virtual_crystals.lut\n"
     ]
    }
   ],
   "execution_count": 156
  },
  {
   "cell_type": "code",
   "id": "ed33139f",
   "metadata": {
    "ExecuteTime": {
     "end_time": "2025-08-15T20:45:59.786077Z",
     "start_time": "2025-08-15T20:45:59.782962Z"
    }
   },
   "source": [
    "write_hscan_header(\n",
    "    output_path=Path(data_save_dir) /\"philips_vereos_virtual_crystals.hscan\",\n",
    "    crystal_size_radial_mm=1.0,\n",
    "    crystal_size_tangential_mm=2.0,\n",
    "    crystal_size_axial_mm=2.0,\n",
    "    num_radial=num_radial,\n",
    "    num_transaxial=num_transaxial,\n",
    "    num_axial=num_axial)"
   ],
   "outputs": [
    {
     "name": "stdout",
     "output_type": "stream",
     "text": [
      "[HSCAN] Header saved to: PET_GRAB/costar_config/philips_vereos_virtual_crystals.hscan\n"
     ]
    }
   ],
   "execution_count": 157
  },
  {
   "cell_type": "code",
   "id": "a3632ab3",
   "metadata": {
    "ExecuteTime": {
     "end_time": "2025-08-15T20:46:01.851448Z",
     "start_time": "2025-08-15T20:45:59.803021Z"
    }
   },
   "source": [
    "import pandas as pd\n",
    "\n",
    "lut_path = Path(data_save_dir) /\"philips_vereos_virtual_crystals.lut\"\n",
    "df = pd.read_csv(lut_path, sep=\" \", header=None, names=[\"id\", \"x\", \"y\", \"z\", \"u\", \"v\", \"w\"])\n"
   ],
   "outputs": [],
   "execution_count": 158
  },
  {
   "cell_type": "code",
   "id": "17836d9b",
   "metadata": {
    "ExecuteTime": {
     "end_time": "2025-08-15T20:46:01.917524Z",
     "start_time": "2025-08-15T20:46:01.912031Z"
    }
   },
   "source": [
    "len(df)"
   ],
   "outputs": [
    {
     "data": {
      "text/plain": [
       "3686400"
      ]
     },
     "execution_count": 159,
     "metadata": {},
     "output_type": "execute_result"
    }
   ],
   "execution_count": 159
  },
  {
   "cell_type": "code",
   "id": "ac7f3551",
   "metadata": {
    "ExecuteTime": {
     "end_time": "2025-08-15T20:46:02.975943Z",
     "start_time": "2025-08-15T20:46:01.937766Z"
    }
   },
   "source": [
    "#also use float32 for lut binary file\n",
    "lut_path_binary = Path(data_save_dir) /\"philips_vereos_virtual_crystals_binary.lut\"\n",
    "data = df[[\"x\", \"y\", \"z\", \"u\", \"v\", \"w\"]].to_numpy(dtype=np.float32)\n",
    "data.tofile(lut_path_binary)"
   ],
   "outputs": [],
   "execution_count": 160
  },
  {
   "cell_type": "code",
   "id": "7161afa5",
   "metadata": {
    "ExecuteTime": {
     "end_time": "2025-08-15T20:46:03.545722Z",
     "start_time": "2025-08-15T20:46:03.003439Z"
    }
   },
   "source": [
    "import matplotlib.pyplot as plt\n",
    "\n",
    "plt.figure(figsize=(6,6))\n",
    "plt.scatter(df[\"x\"], df[\"y\"], s=0.2, alpha=0.5)\n",
    "plt.xlabel(\"x (mm)\")\n",
    "plt.ylabel(\"y (mm)\")\n",
    "plt.axis(\"equal\")\n",
    "plt.title(\"Crystal XY (transverse) distribution\")\n",
    "plt.grid(True)\n",
    "plt.show()\n"
   ],
   "outputs": [
    {
     "data": {
      "text/plain": [
       "<Figure size 600x600 with 1 Axes>"
      ],
      "image/png": "[encoded data removed]"
     },
     "metadata": {},
     "output_type": "display_data"
    }
   ],
   "execution_count": 161
  },
  {
   "cell_type": "code",
   "id": "23583122",
   "metadata": {
    "ExecuteTime": {
     "end_time": "2025-08-15T20:46:03.738297Z",
     "start_time": "2025-08-15T20:46:03.563133Z"
    }
   },
   "source": [
    "plt.figure(figsize=(20,6))\n",
    "# axial crystal size = 1mm, plot the span of each crystal\n",
    "unique_z = np.unique(df[\"z\"])\n",
    "for z in unique_z:\n",
    "    plt.fill_betweenx([-200, 200], z - 2, z + 2, color=\"C0\")\n",
    "\n",
    "plt.xlabel(\"z (mm)\")\n",
    "plt.title(\"Axial (Z) distribution of crystals\")\n",
    "#plt.grid(True)\n",
    "plt.show()\n"
   ],
   "outputs": [
    {
     "data": {
      "text/plain": [
       "<Figure size 2000x600 with 1 Axes>"
      ],
      "image/png": "[encoded data removed]"
     },
     "metadata": {},
     "output_type": "display_data"
    }
   ],
   "execution_count": 162
  },
  {
   "cell_type": "code",
   "id": "92993e03",
   "metadata": {
    "ExecuteTime": {
     "end_time": "2025-08-15T20:46:03.752317Z",
     "start_time": "2025-08-15T20:46:03.750795Z"
    }
   },
   "source": [],
   "outputs": [],
   "execution_count": null
  }
 ],
 "metadata": {
  "kernelspec": {
   "display_name": ".venv",
   "language": "python",
   "name": "python3"
  },
  "language_info": {
   "codemirror_mode": {
    "name": "ipython",
    "version": 3
   },
   "file_extension": ".py",
   "mimetype": "text/x-python",
   "name": "python",
   "nbconvert_exporter": "python",
   "pygments_lexer": "ipython3",
   "version": "3.9.12"
  }
 },
 "nbformat": 4,
 "nbformat_minor": 5
}
